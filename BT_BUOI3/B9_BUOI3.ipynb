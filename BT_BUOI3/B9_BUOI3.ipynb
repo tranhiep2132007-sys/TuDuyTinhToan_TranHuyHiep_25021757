{
 "cells": [
  {
   "cell_type": "code",
   "execution_count": 19,
   "id": "c8b6f7fb",
   "metadata": {},
   "outputs": [
    {
     "name": "stdout",
     "output_type": "stream",
     "text": [
      "Yes\n"
     ]
    }
   ],
   "source": [
    "a = int(input(\"Số a: \"))\n",
    "b = int(input(\"Số b: \"))\n",
    "c = int(input(\"Số c: \"))\n",
    "if a > 0 and b > 0 and c > 0:\n",
    "    if a+b > c and b+c > a and c+a > b:\n",
    "        print(\"Yes\")\n",
    "    else:\n",
    "        print(\"No\")\n",
    "else:\n",
    "    print(\"No\")"
   ]
  }
 ],
 "metadata": {
  "kernelspec": {
   "display_name": "Python (3.13) myproj",
   "language": "python",
   "name": "my313"
  },
  "language_info": {
   "codemirror_mode": {
    "name": "ipython",
    "version": 3
   },
   "file_extension": ".py",
   "mimetype": "text/x-python",
   "name": "python",
   "nbconvert_exporter": "python",
   "pygments_lexer": "ipython3",
   "version": "3.13.7"
  }
 },
 "nbformat": 4,
 "nbformat_minor": 5
}
