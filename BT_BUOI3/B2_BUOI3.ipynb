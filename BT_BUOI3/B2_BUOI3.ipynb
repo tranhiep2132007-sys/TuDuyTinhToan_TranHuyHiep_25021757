{
 "cells": [
  {
   "cell_type": "code",
   "execution_count": 1,
   "id": "f14bad0a",
   "metadata": {},
   "outputs": [
    {
     "name": "stdout",
     "output_type": "stream",
     "text": [
      "Số a:  3\n",
      "Số b:  12\n"
     ]
    }
   ],
   "source": [
    "a = int(input(\"Số a: \"))\n",
    "b = int(input(\"Số b: \"))\n",
    "a ^= b\n",
    "b ^= a\n",
    "a ^= b\n",
    "print(\"Số a: \",a)\n",
    "print(\"Số b: \",b)\n"
   ]
  }
 ],
 "metadata": {
  "kernelspec": {
   "display_name": "Python (duan-env)",
   "language": "python",
   "name": "duan-env"
  },
  "language_info": {
   "codemirror_mode": {
    "name": "ipython",
    "version": 3
   },
   "file_extension": ".py",
   "mimetype": "text/x-python",
   "name": "python",
   "nbconvert_exporter": "python",
   "pygments_lexer": "ipython3",
   "version": "3.13.7"
  }
 },
 "nbformat": 4,
 "nbformat_minor": 5
}
