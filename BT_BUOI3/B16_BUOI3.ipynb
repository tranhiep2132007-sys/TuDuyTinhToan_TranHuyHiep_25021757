{
 "cells": [
  {
   "cell_type": "code",
   "execution_count": 11,
   "id": "677f0c60",
   "metadata": {},
   "outputs": [
    {
     "name": "stdout",
     "output_type": "stream",
     "text": [
      "8   7   7\n"
     ]
    }
   ],
   "source": [
    "import math\n",
    "n = float(input(\"Nhập số thực: \"))\n",
    "if n == math.trunc(n):\n",
    "    print(n,\" \",n,\" \",n)\n",
    "else:\n",
    "    if n > 0:\n",
    "        if (n - math.trunc(n)) < 0.5:\n",
    "            print(math.ceil(n),\" \",math.floor(n),\" \",math.trunc(n))\n",
    "        else:\n",
    "            print(math.ceil(n),\" \",math.floor(n),\" \",math.trunc(n)+1)\n",
    "    else:\n",
    "        if -0.5 < (n - math.trunc(n)):\n",
    "            print(math.ceil(n),\" \",math.floor(n),\" \",math.trunc(n))\n",
    "        else:\n",
    "            print(math.ceil(n),\" \",math.floor(n),\" \",math.trunc(n)-1)"
   ]
  }
 ],
 "metadata": {
  "kernelspec": {
   "display_name": "Python (duan-env)",
   "language": "python",
   "name": "duan-env"
  },
  "language_info": {
   "codemirror_mode": {
    "name": "ipython",
    "version": 3
   },
   "file_extension": ".py",
   "mimetype": "text/x-python",
   "name": "python",
   "nbconvert_exporter": "python",
   "pygments_lexer": "ipython3",
   "version": "3.13.7"
  }
 },
 "nbformat": 4,
 "nbformat_minor": 5
}
