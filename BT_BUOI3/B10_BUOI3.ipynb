{
 "cells": [
  {
   "cell_type": "code",
   "execution_count": 18,
   "id": "a6aaca72",
   "metadata": {},
   "outputs": [
    {
     "name": "stdout",
     "output_type": "stream",
     "text": [
      "3123\n"
     ]
    }
   ],
   "source": [
    "for i in range(0,4):\n",
    "    n = int(input())\n",
    "    if i == 0:\n",
    "        max = n\n",
    "    if n > max:\n",
    "        max = n\n",
    "print(max) "
   ]
  }
 ],
 "metadata": {
  "kernelspec": {
   "display_name": "Python (3.13) myproj",
   "language": "python",
   "name": "my313"
  },
  "language_info": {
   "codemirror_mode": {
    "name": "ipython",
    "version": 3
   },
   "file_extension": ".py",
   "mimetype": "text/x-python",
   "name": "python",
   "nbconvert_exporter": "python",
   "pygments_lexer": "ipython3",
   "version": "3.13.7"
  }
 },
 "nbformat": 4,
 "nbformat_minor": 5
}
