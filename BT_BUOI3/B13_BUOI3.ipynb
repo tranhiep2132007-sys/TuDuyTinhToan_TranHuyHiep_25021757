{
 "cells": [
  {
   "cell_type": "code",
   "execution_count": 6,
   "id": "7bc10f07",
   "metadata": {},
   "outputs": [
    {
     "name": "stdout",
     "output_type": "stream",
     "text": [
      "77000\n"
     ]
    }
   ],
   "source": [
    "n = int(input(\"Số điện: \"))\n",
    "if n <= 50 :\n",
    "    print(n*1500)\n",
    "else:\n",
    "    if n <=100 :\n",
    "        print(50*1500+(n-50)*2000)\n",
    "    else:\n",
    "        print(50*1500+50*2000+(n-100)*3000)\n"
   ]
  }
 ],
 "metadata": {
  "kernelspec": {
   "display_name": "Python (duan-env)",
   "language": "python",
   "name": "duan-env"
  },
  "language_info": {
   "codemirror_mode": {
    "name": "ipython",
    "version": 3
   },
   "file_extension": ".py",
   "mimetype": "text/x-python",
   "name": "python",
   "nbconvert_exporter": "python",
   "pygments_lexer": "ipython3",
   "version": "3.13.7"
  }
 },
 "nbformat": 4,
 "nbformat_minor": 5
}
