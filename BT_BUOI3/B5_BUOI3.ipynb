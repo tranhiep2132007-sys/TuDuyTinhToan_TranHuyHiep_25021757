{
 "cells": [
  {
   "cell_type": "code",
   "execution_count": 7,
   "id": "27d5b67c",
   "metadata": {},
   "outputs": [
    {
     "name": "stdout",
     "output_type": "stream",
     "text": [
      "1221\n"
     ]
    }
   ],
   "source": [
    "m = int(input(\"Số m: \"))\n",
    "n = int(input(\"Số n: \"))\n",
    "if m%n >= n/2:\n",
    "    print(m//n+1)\n",
    "else:\n",
    "    print(m//n)"
   ]
  }
 ],
 "metadata": {
  "kernelspec": {
   "display_name": "Python (3.13) myproj",
   "language": "python",
   "name": "my313"
  },
  "language_info": {
   "codemirror_mode": {
    "name": "ipython",
    "version": 3
   },
   "file_extension": ".py",
   "mimetype": "text/x-python",
   "name": "python",
   "nbconvert_exporter": "python",
   "pygments_lexer": "ipython3",
   "version": "3.13.7"
  }
 },
 "nbformat": 4,
 "nbformat_minor": 5
}
