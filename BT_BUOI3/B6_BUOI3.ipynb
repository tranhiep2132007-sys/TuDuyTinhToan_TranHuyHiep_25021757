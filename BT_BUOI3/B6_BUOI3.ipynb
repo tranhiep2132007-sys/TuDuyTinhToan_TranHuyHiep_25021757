{
 "cells": [
  {
   "cell_type": "code",
   "execution_count": 6,
   "id": "55a8a618",
   "metadata": {},
   "outputs": [
    {
     "name": "stdout",
     "output_type": "stream",
     "text": [
      "Odd\n"
     ]
    }
   ],
   "source": [
    "def test(n):\n",
    "    if n%2 == 0:\n",
    "        print(\"Even\")\n",
    "    else:\n",
    "        print(\"Odd\")\n",
    "x = int(input(\"Số x: \"))\n",
    "test(x)\n"
   ]
  }
 ],
 "metadata": {
  "kernelspec": {
   "display_name": "Python (3.13) myproj",
   "language": "python",
   "name": "my313"
  },
  "language_info": {
   "codemirror_mode": {
    "name": "ipython",
    "version": 3
   },
   "file_extension": ".py",
   "mimetype": "text/x-python",
   "name": "python",
   "nbconvert_exporter": "python",
   "pygments_lexer": "ipython3",
   "version": "3.13.7"
  }
 },
 "nbformat": 4,
 "nbformat_minor": 5
}
