{
 "cells": [
  {
   "cell_type": "code",
   "execution_count": 6,
   "id": "1dbc6148",
   "metadata": {},
   "outputs": [
    {
     "name": "stdout",
     "output_type": "stream",
     "text": [
      "Giỏi\n"
     ]
    }
   ],
   "source": [
    "n = float(input(\"Điểm học sinh: \"))\n",
    "if n >= 8.0:\n",
    "    print(\"Giỏi\")\n",
    "else:\n",
    "    if n >= 6.5:\n",
    "        print(\"Khá\")\n",
    "    else:\n",
    "        if n >= 5:\n",
    "            print(\"Trung bình\")\n",
    "        else:\n",
    "            print(\"Yếu\")"
   ]
  }
 ],
 "metadata": {
  "kernelspec": {
   "display_name": "Python (duan-env)",
   "language": "python",
   "name": "duan-env"
  },
  "language_info": {
   "codemirror_mode": {
    "name": "ipython",
    "version": 3
   },
   "file_extension": ".py",
   "mimetype": "text/x-python",
   "name": "python",
   "nbconvert_exporter": "python",
   "pygments_lexer": "ipython3",
   "version": "3.13.7"
  }
 },
 "nbformat": 4,
 "nbformat_minor": 5
}
