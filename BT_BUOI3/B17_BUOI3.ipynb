{
 "cells": [
  {
   "cell_type": "code",
   "execution_count": 1,
   "id": "b1586c6d",
   "metadata": {},
   "outputs": [
    {
     "name": "stdout",
     "output_type": "stream",
     "text": [
      "Tam giác đều\n"
     ]
    }
   ],
   "source": [
    "a, b, c = map(int, input(\"Độ dài 3 cạnh tam giác: \").split())\n",
    "if a+b > c and b+c > a and c+a > b:\n",
    "    if a == b == c:\n",
    "        print(\"Tam giác đều\")\n",
    "    else:\n",
    "        if a == b or b == c or c == a:\n",
    "            print(\"Tam giác cân\")\n",
    "        else:\n",
    "            print(\"Tam giác thường\")\n",
    "else:\n",
    "    print(\"Không phải tam giác\")\n",
    "    "
   ]
  }
 ],
 "metadata": {
  "kernelspec": {
   "display_name": "Python (duan-env)",
   "language": "python",
   "name": "duan-env"
  },
  "language_info": {
   "codemirror_mode": {
    "name": "ipython",
    "version": 3
   },
   "file_extension": ".py",
   "mimetype": "text/x-python",
   "name": "python",
   "nbconvert_exporter": "python",
   "pygments_lexer": "ipython3",
   "version": "3.13.7"
  }
 },
 "nbformat": 4,
 "nbformat_minor": 5
}
